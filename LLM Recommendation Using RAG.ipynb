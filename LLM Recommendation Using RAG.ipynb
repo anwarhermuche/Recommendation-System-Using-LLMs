{
 "cells": [
  {
   "cell_type": "markdown",
   "id": "10a9f88c",
   "metadata": {},
   "source": [
    "<h1 style=\"text-align: center;\">LLM Recommendation System using RAG with Query Expansion and Cross-Encoder re-Ranking</h1>\n",
    "<img src=\"https://media.licdn.com/dms/image/D4D12AQHY76w85U8W5g/article-cover_image-shrink_600_2000/0/1695787886133?e=2147483647&v=beta&t=JAtf8m765q6X46fw6yAoF1VKyd9hTKtjp6YfPNqCCYM\" width=500px>\n",
    "\n",
    "## Introduction\n",
    "Recently, DeepLearning.AI came up with a new course called \"Advanced Retrieval for AI with Chroma\". I took some notes and you can see it below:\n",
    "\n",
    "The classic approach we use RAG is basically to embbed the documents, store them in a Vector Database and when we ask a question about the document, this question is encoded using the same technique as before. Finally, we get the top K parts of the document that have similar embeddings to the question.\n",
    "\n",
    "In other words, you transform a model that only REMEMBERS some facts into a model that PROCESSES information.\n",
    "\n",
    "However... the documents returned that have similar topics don't necessarily contain the answer to the user's question (query). So what do we do?\n",
    "\n",
    "## Query Expansion Technique\n",
    "The first technique is called \"Query expansion\", where we rewrite the user's query by adding / removing words so that the search for the most similar documents contains the answer.\n",
    "\n",
    "There are two ways of doing this:\n",
    "- **First one**: The query goes through an LLM whose purpose is to generate questions with a similar topic to the original query and use all these new questions to search for the most similar documents.\n",
    "- **Second one**: The query goes through an LLM which generates a possible answer to the user's question and, based on this question and the possible answer, we search for the documents.\n",
    "\n",
    "## Cross-Encoder Re-Ranking Technique\n",
    "The second technique is called Cross-encoder re-ranking.\n",
    "\n",
    "Bi-encoders process two inputs separately (query -> BERT -> Pooling -> vector -> Cosine similarity).\n",
    "\n",
    "Cross-encoders, on the other hand, process the two inputs together as a single input (queries -> BERT -> Classifier -> 0...1), which allows the model to directly compare and contrast the inputs, understanding their relationships in a more integrated and detailed way. In the end, they generate a score of how similar these inputs are, with a higher score meaning greater similarity.\n",
    "\n",
    "In other words, we're going to use a cross-encoder by passing the user's query and one of the K documents selected from the similarity search as inputs. These selected documents can be those that we obtained using Query Expansion techniques.\n",
    "\n",
    "We then get the scores for each document and can sort them according to which are the most similar! Hence the name re-ranking. This way, we only use the most similar documents as input for our final LLM.\n",
    "\n",
    "## Embedding Adaptors Technique\n",
    "The third technique is called Embedding Adaptors, which uses user feedback to adapt the search for the most similar documents (like an RLHF). We will receive an output from the LLM and we will evaluate it with 1 and -1 (1 and -1 because these are the respective cosine similarity values when the vectors are in the same and opposite directions, respectively).\n",
    "\n",
    "## Conclusion\n",
    "Given this background let's jump into the project."
   ]
  },
  {
   "cell_type": "code",
   "execution_count": 129,
   "id": "2c672cd0",
   "metadata": {},
   "outputs": [],
   "source": [
    "# Importing the libraries\n",
    "import pandas as pd\n",
    "import numpy as np\n",
    "import matplotlib.pyplot as plt\n",
    "from os import chdir\n",
    "from warnings import filterwarnings\n",
    "from tqdm import tqdm\n",
    "\n",
    "from sentence_transformers import SentenceTransformer, CrossEncoder\n",
    "\n",
    "from qdrant_client import QdrantClient, models \n",
    "from qdrant_client.http.models import Distance, VectorParams, PointStruct\n",
    "from qdrant_client.models import Filter\n",
    "from qdrant_client.http import models\n",
    "\n",
    "import openai\n",
    "\n",
    "\n",
    "chdir(r'C:\\Users\\Anwar\\Desktop\\VSCode\\LLMRecommendation')\n",
    "filterwarnings('ignore')\n",
    "plt.style.use('ggplot')\n",
    "openai.api_key = \"SUA_API_KEY\""
   ]
  },
  {
   "cell_type": "code",
   "execution_count": 144,
   "id": "7dd8047e",
   "metadata": {},
   "outputs": [],
   "source": [
    "# Helper Functions\n",
    "def wrap_words(scored_point):\n",
    "    return df.iloc[scored_point.id, :]['sentences']\n",
    "\n",
    "# Function to create related queries\n",
    "def generate_related_queries(query, model=\"gpt-3.5-turbo\"):\n",
    "    messages = [\n",
    "        {\n",
    "            \"role\": \"system\",\n",
    "            \"content\": \"You are a helpful assistant that helps people to find good articles.\"\n",
    "            \"Your users are trying to find good articles about certain area. \"\n",
    "            \"Suggest up to five additional related search texts to help them find the article they need\"\n",
    "            \"Suggest only short search texts without compound sentences. Suggest a variety of texts that cover different aspects of the topic.\"\n",
    "            \"Make sure they are complete search texts, and that they are related to the original text.\"\n",
    "            \"Output one text per line. Do not number the texts.\"\n",
    "        },\n",
    "        {\"role\": \"user\", \"content\": query}\n",
    "    ]\n",
    "\n",
    "    content = openai.ChatCompletion.create(\n",
    "            model = model,\n",
    "            messages = messages\n",
    "            )['choices'][0]['message']['content']\n",
    "    content = content.split(\"\\n\")\n",
    "    return content\n",
    "\n",
    "# Function to create the answer\n",
    "def generate_titles(query, model=\"gpt-3.5-turbo\"):\n",
    "    messages = [\n",
    "        {\n",
    "            \"role\": \"system\",\n",
    "            \"content\": \"You are a helpful assistant that helps people to find good articles.\"\n",
    "            \"Your users are trying to find good articles about certain area. \"\n",
    "            \"Create five possible titles for the articles they need\"\n",
    "            \"Create only short titles without compound sentences. Suggest a variety of titles that cover the main aspect of the topic.\"\n",
    "            \"Make sure they are complete titles, and that they are related to the original text.\"\n",
    "            \"Output one title per line. Do NOT number the texts.\"\n",
    "        },\n",
    "        {\"role\": \"user\", \"content\": query}\n",
    "    ]\n",
    "\n",
    "    content = openai.ChatCompletion.create(\n",
    "            model = model,\n",
    "            messages = messages\n",
    "            )['choices'][0]['message']['content']\n",
    "    content = content.split(\"\\n\")\n",
    "    return content\n",
    "\n",
    "# Function to create related words\n",
    "def generate_related_words(query, model=\"gpt-3.5-turbo\"):\n",
    "    messages = [\n",
    "        {\n",
    "            \"role\": \"system\",\n",
    "            \"content\": \"You are a helpful assistant that helps people to find good articles.\"\n",
    "            \"Your users are trying to find good articles about certain area. \"\n",
    "            \"Suggest up to 10 related words for the articles they need\"\n",
    "            \"Suggest a variety of words that cover the main aspect of the topic.\"\n",
    "            \"Make sure they are related to the original text.\"\n",
    "            \"Output one word per line. Do NOT number the words.\"\n",
    "        },\n",
    "        {\"role\": \"user\", \"content\": query}\n",
    "    ]\n",
    "\n",
    "    content = openai.ChatCompletion.create(\n",
    "            model = model,\n",
    "            messages = messages\n",
    "            )['choices'][0]['message']['content']\n",
    "    content = content.split(\"\\n\")\n",
    "    return content"
   ]
  },
  {
   "cell_type": "code",
   "execution_count": 2,
   "id": "737153ee",
   "metadata": {},
   "outputs": [
    {
     "data": {
      "text/html": [
       "<div>\n",
       "<style scoped>\n",
       "    .dataframe tbody tr th:only-of-type {\n",
       "        vertical-align: middle;\n",
       "    }\n",
       "\n",
       "    .dataframe tbody tr th {\n",
       "        vertical-align: top;\n",
       "    }\n",
       "\n",
       "    .dataframe thead th {\n",
       "        text-align: right;\n",
       "    }\n",
       "</style>\n",
       "<table border=\"1\" class=\"dataframe\">\n",
       "  <thead>\n",
       "    <tr style=\"text-align: right;\">\n",
       "      <th></th>\n",
       "      <th>author</th>\n",
       "      <th>claps</th>\n",
       "      <th>reading_time</th>\n",
       "      <th>link</th>\n",
       "      <th>title</th>\n",
       "      <th>text</th>\n",
       "    </tr>\n",
       "  </thead>\n",
       "  <tbody>\n",
       "    <tr>\n",
       "      <th>0</th>\n",
       "      <td>Justin Lee</td>\n",
       "      <td>8.3K</td>\n",
       "      <td>11</td>\n",
       "      <td>https://medium.com/swlh/chatbots-were-the-next...</td>\n",
       "      <td>Chatbots were the next big thing: what happene...</td>\n",
       "      <td>Oh, how the headlines blared:\\nChatbots were T...</td>\n",
       "    </tr>\n",
       "    <tr>\n",
       "      <th>1</th>\n",
       "      <td>Conor Dewey</td>\n",
       "      <td>1.4K</td>\n",
       "      <td>7</td>\n",
       "      <td>https://towardsdatascience.com/python-for-data...</td>\n",
       "      <td>Python for Data Science: 8 Concepts You May Ha...</td>\n",
       "      <td>If you’ve ever found yourself looking up the s...</td>\n",
       "    </tr>\n",
       "    <tr>\n",
       "      <th>2</th>\n",
       "      <td>William Koehrsen</td>\n",
       "      <td>2.8K</td>\n",
       "      <td>11</td>\n",
       "      <td>https://towardsdatascience.com/automated-featu...</td>\n",
       "      <td>Automated Feature Engineering in Python – Towa...</td>\n",
       "      <td>Machine learning is increasingly moving from h...</td>\n",
       "    </tr>\n",
       "    <tr>\n",
       "      <th>3</th>\n",
       "      <td>Gant Laborde</td>\n",
       "      <td>1.3K</td>\n",
       "      <td>7</td>\n",
       "      <td>https://medium.freecodecamp.org/machine-learni...</td>\n",
       "      <td>Machine Learning: how to go from Zero to Hero ...</td>\n",
       "      <td>If your understanding of A.I. and Machine Lear...</td>\n",
       "    </tr>\n",
       "    <tr>\n",
       "      <th>4</th>\n",
       "      <td>Emmanuel Ameisen</td>\n",
       "      <td>935</td>\n",
       "      <td>11</td>\n",
       "      <td>https://blog.insightdatascience.com/reinforcem...</td>\n",
       "      <td>Reinforcement Learning from scratch – Insight ...</td>\n",
       "      <td>Want to learn about applied Artificial Intelli...</td>\n",
       "    </tr>\n",
       "  </tbody>\n",
       "</table>\n",
       "</div>"
      ],
      "text/plain": [
       "             author claps  reading_time  \\\n",
       "0        Justin Lee  8.3K            11   \n",
       "1       Conor Dewey  1.4K             7   \n",
       "2  William Koehrsen  2.8K            11   \n",
       "3      Gant Laborde  1.3K             7   \n",
       "4  Emmanuel Ameisen   935            11   \n",
       "\n",
       "                                                link  \\\n",
       "0  https://medium.com/swlh/chatbots-were-the-next...   \n",
       "1  https://towardsdatascience.com/python-for-data...   \n",
       "2  https://towardsdatascience.com/automated-featu...   \n",
       "3  https://medium.freecodecamp.org/machine-learni...   \n",
       "4  https://blog.insightdatascience.com/reinforcem...   \n",
       "\n",
       "                                               title  \\\n",
       "0  Chatbots were the next big thing: what happene...   \n",
       "1  Python for Data Science: 8 Concepts You May Ha...   \n",
       "2  Automated Feature Engineering in Python – Towa...   \n",
       "3  Machine Learning: how to go from Zero to Hero ...   \n",
       "4  Reinforcement Learning from scratch – Insight ...   \n",
       "\n",
       "                                                text  \n",
       "0  Oh, how the headlines blared:\\nChatbots were T...  \n",
       "1  If you’ve ever found yourself looking up the s...  \n",
       "2  Machine learning is increasingly moving from h...  \n",
       "3  If your understanding of A.I. and Machine Lear...  \n",
       "4  Want to learn about applied Artificial Intelli...  "
      ]
     },
     "execution_count": 2,
     "metadata": {},
     "output_type": "execute_result"
    }
   ],
   "source": [
    "# Loading the data\n",
    "df = pd.read_csv('articles.csv')\n",
    "df.head()"
   ]
  },
  {
   "cell_type": "code",
   "execution_count": 3,
   "id": "9b975d82",
   "metadata": {},
   "outputs": [
    {
     "data": {
      "text/plain": [
       "(337, 6)"
      ]
     },
     "execution_count": 3,
     "metadata": {},
     "output_type": "execute_result"
    }
   ],
   "source": [
    "# Number of rows (articles)\n",
    "df.shape"
   ]
  },
  {
   "cell_type": "markdown",
   "id": "7b27b8e2",
   "metadata": {},
   "source": [
    "Now, let's create an embedding example concatenating the title with the article. And for this we're going to use the BERT base Multilingual, from QCRI. You can use this model <a href=\"https://huggingface.co/QCRI/bert-base-multilingual-cased-pos-english\" target=\"_blank\">clicking here</a>"
   ]
  },
  {
   "cell_type": "code",
   "execution_count": 4,
   "id": "3c7f66b7",
   "metadata": {},
   "outputs": [
    {
     "data": {
      "application/vnd.jupyter.widget-view+json": {
       "model_id": "d617c786bf32462fa83c0c210169cda2",
       "version_major": 2,
       "version_minor": 0
      },
      "text/plain": [
       ".gitattributes:   0%|          | 0.00/491 [00:00<?, ?B/s]"
      ]
     },
     "metadata": {},
     "output_type": "display_data"
    },
    {
     "data": {
      "application/vnd.jupyter.widget-view+json": {
       "model_id": "9eaf2286420949868e0a333edc001a11",
       "version_major": 2,
       "version_minor": 0
      },
      "text/plain": [
       "LICENSE:   0%|          | 0.00/11.4k [00:00<?, ?B/s]"
      ]
     },
     "metadata": {},
     "output_type": "display_data"
    },
    {
     "data": {
      "application/vnd.jupyter.widget-view+json": {
       "model_id": "776bcfe89b784ca3b4e53fccb4eb2958",
       "version_major": 2,
       "version_minor": 0
      },
      "text/plain": [
       "README.md:   0%|          | 0.00/10.5k [00:00<?, ?B/s]"
      ]
     },
     "metadata": {},
     "output_type": "display_data"
    },
    {
     "data": {
      "application/vnd.jupyter.widget-view+json": {
       "model_id": "c3bb4594550f419794b08870018b5c57",
       "version_major": 2,
       "version_minor": 0
      },
      "text/plain": [
       "config.json:   0%|          | 0.00/570 [00:00<?, ?B/s]"
      ]
     },
     "metadata": {},
     "output_type": "display_data"
    },
    {
     "data": {
      "application/vnd.jupyter.widget-view+json": {
       "model_id": "20a6a136ef4c4fe691f5d7baab328fa0",
       "version_major": 2,
       "version_minor": 0
      },
      "text/plain": [
       "(…)kage/Data/com.apple.CoreML/model.mlmodel:   0%|          | 0.00/165k [00:00<?, ?B/s]"
      ]
     },
     "metadata": {},
     "output_type": "display_data"
    },
    {
     "data": {
      "application/vnd.jupyter.widget-view+json": {
       "model_id": "1b8cf9c2aa1b4a149a47e5e7bfccdb9a",
       "version_major": 2,
       "version_minor": 0
      },
      "text/plain": [
       "weight.bin:   0%|          | 0.00/532M [00:00<?, ?B/s]"
      ]
     },
     "metadata": {},
     "output_type": "display_data"
    },
    {
     "data": {
      "application/vnd.jupyter.widget-view+json": {
       "model_id": "f2afc5edd8be42ac867a7545ed3fbeef",
       "version_major": 2,
       "version_minor": 0
      },
      "text/plain": [
       "(…)sk/float32_model.mlpackage/Manifest.json:   0%|          | 0.00/617 [00:00<?, ?B/s]"
      ]
     },
     "metadata": {},
     "output_type": "display_data"
    },
    {
     "data": {
      "application/vnd.jupyter.widget-view+json": {
       "model_id": "8b096dca687b45a0970b753c9a219e32",
       "version_major": 2,
       "version_minor": 0
      },
      "text/plain": [
       "model.onnx:   0%|          | 0.00/532M [00:00<?, ?B/s]"
      ]
     },
     "metadata": {},
     "output_type": "display_data"
    },
    {
     "data": {
      "application/vnd.jupyter.widget-view+json": {
       "model_id": "381ee935c7854e90b97b5cd9e02a6492",
       "version_major": 2,
       "version_minor": 0
      },
      "text/plain": [
       "model.safetensors:   0%|          | 0.00/440M [00:00<?, ?B/s]"
      ]
     },
     "metadata": {},
     "output_type": "display_data"
    },
    {
     "data": {
      "application/vnd.jupyter.widget-view+json": {
       "model_id": "db61c141910f43a7b7587cb4b625752e",
       "version_major": 2,
       "version_minor": 0
      },
      "text/plain": [
       "pytorch_model.bin:   0%|          | 0.00/440M [00:00<?, ?B/s]"
      ]
     },
     "metadata": {},
     "output_type": "display_data"
    },
    {
     "data": {
      "application/vnd.jupyter.widget-view+json": {
       "model_id": "388db1413e4c4c60b13726f4f5a7d53f",
       "version_major": 2,
       "version_minor": 0
      },
      "text/plain": [
       "tokenizer.json:   0%|          | 0.00/466k [00:00<?, ?B/s]"
      ]
     },
     "metadata": {},
     "output_type": "display_data"
    },
    {
     "data": {
      "application/vnd.jupyter.widget-view+json": {
       "model_id": "899b6d631403456aabcd9d5dab938d07",
       "version_major": 2,
       "version_minor": 0
      },
      "text/plain": [
       "tokenizer_config.json:   0%|          | 0.00/28.0 [00:00<?, ?B/s]"
      ]
     },
     "metadata": {},
     "output_type": "display_data"
    },
    {
     "data": {
      "application/vnd.jupyter.widget-view+json": {
       "model_id": "4457b235ff5b4b31b32b5b1cd9cb5f40",
       "version_major": 2,
       "version_minor": 0
      },
      "text/plain": [
       "vocab.txt:   0%|          | 0.00/232k [00:00<?, ?B/s]"
      ]
     },
     "metadata": {},
     "output_type": "display_data"
    },
    {
     "name": "stderr",
     "output_type": "stream",
     "text": [
      "No sentence-transformers model found with name C:\\Users\\Anwar/.cache\\torch\\sentence_transformers\\bert-base-uncased. Creating a new one with MEAN pooling.\n"
     ]
    },
    {
     "name": "stdout",
     "output_type": "stream",
     "text": [
      "'NoneType' object has no attribute 'cadam32bit_grad_fp32'\n",
      "Length of the embedding vector: 768\n",
      "[-0.0151996   0.01303956  0.39059126  0.08283757  0.15611067  0.05184288\n",
      "  0.09080029  0.6347407   0.10698275 -0.23789361  0.21131742 -0.20583372\n",
      " -0.2811767   0.2144163  -0.10719037  0.35887092  0.21524167 -0.07407676\n",
      " -0.20916578  0.416417    0.21774074  0.12373762 -0.04202881  0.8123086\n",
      "  0.3441775  -0.1543962  -0.17182498 -0.21816976 -0.22428831 -0.1127854 ]\n"
     ]
    }
   ],
   "source": [
    "# Picking the first instance as an example\n",
    "fi = df.iloc[0, :]\n",
    "example = fi['title'] + '\\n\\n' + fi['text']\n",
    "\n",
    "# The model\n",
    "model_name = \"bert-base-uncased\"\n",
    "encoder = SentenceTransformer(model_name_or_path = model_name)\n",
    "\n",
    "# Encoding the example\n",
    "example_embedding = encoder.encode(example)\n",
    "\n",
    "# Visualizing the first 30 numbers\n",
    "print(f\"Length of the embedding vector: {len(example_embedding)}\")\n",
    "print(example_embedding[:30])"
   ]
  },
  {
   "cell_type": "code",
   "execution_count": 5,
   "id": "44d55c5a",
   "metadata": {},
   "outputs": [
    {
     "name": "stderr",
     "output_type": "stream",
     "text": [
      "337it [04:48,  1.17it/s]\n"
     ]
    }
   ],
   "source": [
    "# Creating a new column with the embedding for all the rows\n",
    "sentences, encoded_sentences = list(), list()\n",
    "for title, text in tqdm(zip(df.title.values, df.text.values)):\n",
    "    sentence = title + '\\n\\n' + text\n",
    "    sentences.append(sentence)\n",
    "    encoded_sentences.append(encoder.encode(sentence))\n",
    "\n",
    "df['sentences'] = sentences    \n",
    "df['encoded_sentences'] = encoded_sentences"
   ]
  },
  {
   "cell_type": "code",
   "execution_count": 6,
   "id": "b449b576",
   "metadata": {},
   "outputs": [
    {
     "data": {
      "text/html": [
       "<div>\n",
       "<style scoped>\n",
       "    .dataframe tbody tr th:only-of-type {\n",
       "        vertical-align: middle;\n",
       "    }\n",
       "\n",
       "    .dataframe tbody tr th {\n",
       "        vertical-align: top;\n",
       "    }\n",
       "\n",
       "    .dataframe thead th {\n",
       "        text-align: right;\n",
       "    }\n",
       "</style>\n",
       "<table border=\"1\" class=\"dataframe\">\n",
       "  <thead>\n",
       "    <tr style=\"text-align: right;\">\n",
       "      <th></th>\n",
       "      <th>author</th>\n",
       "      <th>claps</th>\n",
       "      <th>reading_time</th>\n",
       "      <th>link</th>\n",
       "      <th>title</th>\n",
       "      <th>text</th>\n",
       "      <th>sentences</th>\n",
       "      <th>encoded_sentences</th>\n",
       "    </tr>\n",
       "  </thead>\n",
       "  <tbody>\n",
       "    <tr>\n",
       "      <th>0</th>\n",
       "      <td>Justin Lee</td>\n",
       "      <td>8.3K</td>\n",
       "      <td>11</td>\n",
       "      <td>https://medium.com/swlh/chatbots-were-the-next...</td>\n",
       "      <td>Chatbots were the next big thing: what happene...</td>\n",
       "      <td>Oh, how the headlines blared:\\nChatbots were T...</td>\n",
       "      <td>Chatbots were the next big thing: what happene...</td>\n",
       "      <td>[-0.015199602, 0.01303956, 0.39059126, 0.08283...</td>\n",
       "    </tr>\n",
       "    <tr>\n",
       "      <th>1</th>\n",
       "      <td>Conor Dewey</td>\n",
       "      <td>1.4K</td>\n",
       "      <td>7</td>\n",
       "      <td>https://towardsdatascience.com/python-for-data...</td>\n",
       "      <td>Python for Data Science: 8 Concepts You May Ha...</td>\n",
       "      <td>If you’ve ever found yourself looking up the s...</td>\n",
       "      <td>Python for Data Science: 8 Concepts You May Ha...</td>\n",
       "      <td>[-0.20942944, 0.16949809, 0.21063836, -0.04316...</td>\n",
       "    </tr>\n",
       "    <tr>\n",
       "      <th>2</th>\n",
       "      <td>William Koehrsen</td>\n",
       "      <td>2.8K</td>\n",
       "      <td>11</td>\n",
       "      <td>https://towardsdatascience.com/automated-featu...</td>\n",
       "      <td>Automated Feature Engineering in Python – Towa...</td>\n",
       "      <td>Machine learning is increasingly moving from h...</td>\n",
       "      <td>Automated Feature Engineering in Python – Towa...</td>\n",
       "      <td>[-0.16634433, 0.07990255, 0.2653013, 0.0159984...</td>\n",
       "    </tr>\n",
       "    <tr>\n",
       "      <th>3</th>\n",
       "      <td>Gant Laborde</td>\n",
       "      <td>1.3K</td>\n",
       "      <td>7</td>\n",
       "      <td>https://medium.freecodecamp.org/machine-learni...</td>\n",
       "      <td>Machine Learning: how to go from Zero to Hero ...</td>\n",
       "      <td>If your understanding of A.I. and Machine Lear...</td>\n",
       "      <td>Machine Learning: how to go from Zero to Hero ...</td>\n",
       "      <td>[-0.033402447, 0.12892093, 0.30454758, 0.03839...</td>\n",
       "    </tr>\n",
       "    <tr>\n",
       "      <th>4</th>\n",
       "      <td>Emmanuel Ameisen</td>\n",
       "      <td>935</td>\n",
       "      <td>11</td>\n",
       "      <td>https://blog.insightdatascience.com/reinforcem...</td>\n",
       "      <td>Reinforcement Learning from scratch – Insight ...</td>\n",
       "      <td>Want to learn about applied Artificial Intelli...</td>\n",
       "      <td>Reinforcement Learning from scratch – Insight ...</td>\n",
       "      <td>[-0.21362075, -0.039915938, 0.31208166, 0.0312...</td>\n",
       "    </tr>\n",
       "  </tbody>\n",
       "</table>\n",
       "</div>"
      ],
      "text/plain": [
       "             author claps  reading_time  \\\n",
       "0        Justin Lee  8.3K            11   \n",
       "1       Conor Dewey  1.4K             7   \n",
       "2  William Koehrsen  2.8K            11   \n",
       "3      Gant Laborde  1.3K             7   \n",
       "4  Emmanuel Ameisen   935            11   \n",
       "\n",
       "                                                link  \\\n",
       "0  https://medium.com/swlh/chatbots-were-the-next...   \n",
       "1  https://towardsdatascience.com/python-for-data...   \n",
       "2  https://towardsdatascience.com/automated-featu...   \n",
       "3  https://medium.freecodecamp.org/machine-learni...   \n",
       "4  https://blog.insightdatascience.com/reinforcem...   \n",
       "\n",
       "                                               title  \\\n",
       "0  Chatbots were the next big thing: what happene...   \n",
       "1  Python for Data Science: 8 Concepts You May Ha...   \n",
       "2  Automated Feature Engineering in Python – Towa...   \n",
       "3  Machine Learning: how to go from Zero to Hero ...   \n",
       "4  Reinforcement Learning from scratch – Insight ...   \n",
       "\n",
       "                                                text  \\\n",
       "0  Oh, how the headlines blared:\\nChatbots were T...   \n",
       "1  If you’ve ever found yourself looking up the s...   \n",
       "2  Machine learning is increasingly moving from h...   \n",
       "3  If your understanding of A.I. and Machine Lear...   \n",
       "4  Want to learn about applied Artificial Intelli...   \n",
       "\n",
       "                                           sentences  \\\n",
       "0  Chatbots were the next big thing: what happene...   \n",
       "1  Python for Data Science: 8 Concepts You May Ha...   \n",
       "2  Automated Feature Engineering in Python – Towa...   \n",
       "3  Machine Learning: how to go from Zero to Hero ...   \n",
       "4  Reinforcement Learning from scratch – Insight ...   \n",
       "\n",
       "                                   encoded_sentences  \n",
       "0  [-0.015199602, 0.01303956, 0.39059126, 0.08283...  \n",
       "1  [-0.20942944, 0.16949809, 0.21063836, -0.04316...  \n",
       "2  [-0.16634433, 0.07990255, 0.2653013, 0.0159984...  \n",
       "3  [-0.033402447, 0.12892093, 0.30454758, 0.03839...  \n",
       "4  [-0.21362075, -0.039915938, 0.31208166, 0.0312...  "
      ]
     },
     "execution_count": 6,
     "metadata": {},
     "output_type": "execute_result"
    }
   ],
   "source": [
    "# Seeing the result\n",
    "df.head()"
   ]
  },
  {
   "cell_type": "markdown",
   "id": "b3c17f88",
   "metadata": {},
   "source": [
    "Nice! Now we have an extra column \"encoded_sentences\" which has the encoded title, text and author information about the article. Now we're going to store this information in a vector database (open-source) called Qdrant.\n",
    "\n",
    "## Qdrant\n",
    "Qdrant is an open-source vector database and allows you to create both local and remote connection with databases. For this project I'll use the local option."
   ]
  },
  {
   "cell_type": "code",
   "execution_count": 7,
   "id": "a26ae3ed",
   "metadata": {},
   "outputs": [],
   "source": [
    "# Setting up\n",
    "client = QdrantClient(path = \"./vectordb\")"
   ]
  },
  {
   "cell_type": "code",
   "execution_count": 8,
   "id": "b58770d5",
   "metadata": {},
   "outputs": [
    {
     "name": "stdout",
     "output_type": "stream",
     "text": [
      "collections=[CollectionDescription(name='medium-articles')]\n"
     ]
    }
   ],
   "source": [
    "# Creating a collection in the database that will store the embeddings\n",
    "client.create_collection(\n",
    "    collection_name = \"medium-articles\",\n",
    "    vectors_config = models.VectorParams(\n",
    "        size = encoder.get_sentence_embedding_dimension(),\n",
    "        distance = models.Distance.COSINE # Using cosine similarity to calculate the distance\n",
    "    )\n",
    ")\n",
    "\n",
    "print(client.get_collections())"
   ]
  },
  {
   "cell_type": "code",
   "execution_count": 9,
   "id": "fcac95a4",
   "metadata": {},
   "outputs": [],
   "source": [
    "# Creating the vector points\n",
    "points = list()\n",
    "\n",
    "for articleID, (author, claps, reading_time, link, title, text, sentences, encoded_sentences) in enumerate(df.values):\n",
    "    points.append(PointStruct(\n",
    "        id = articleID,\n",
    "        vector = encoded_sentences.tolist(),\n",
    "        payload = {\n",
    "            'claps': claps if str(claps) not in ['None', 'nan'] else '',\n",
    "            'reading_time': reading_time if str(reading_time) not in ['None', 'nan'] else '',\n",
    "            'link': link if str(link) not in ['None', 'nan'] else '',\n",
    "            'title': title if str(title) not in ['None', 'nan'] else '',\n",
    "            'author': author if str(author) not in ['None', 'nan'] else ''\n",
    "        }\n",
    "    ))"
   ]
  },
  {
   "cell_type": "code",
   "execution_count": 10,
   "id": "e6612ec1",
   "metadata": {},
   "outputs": [],
   "source": [
    "# Now we can upload all these points to the database\n",
    "SIZE = 1000\n",
    "n_chunks = np.ceil(len(points)/SIZE)\n",
    "\n",
    "for i, points_chunk in enumerate(np.array_split(points, n_chunks)):\n",
    "    client.upsert(\n",
    "        collection_name = 'medium-articles',\n",
    "        wait = True,\n",
    "        points = points_chunk.tolist()\n",
    "    )"
   ]
  },
  {
   "cell_type": "markdown",
   "id": "f0ae9ac3",
   "metadata": {},
   "source": [
    "Now it's done! Let's put an example query, encode it and retrieval the most similar documents."
   ]
  },
  {
   "cell_type": "code",
   "execution_count": 131,
   "id": "0ca0bc33",
   "metadata": {},
   "outputs": [
    {
     "name": "stdout",
     "output_type": "stream",
     "text": [
      "Length of the query vector: 768\n",
      "[0.13361723721027374, -0.3658362925052643, -0.4088641107082367, 0.2660626471042633, 0.500251293182373, -0.3838483393192291, 0.20698142051696777, 0.15636451542377472, 0.15276719629764557, -0.23971343040466309, 0.023343849927186966, -0.017142565920948982, -0.1754218339920044, 0.12766329944133759, -0.6844878792762756, -0.30942267179489136, -0.45385321974754333, 0.19815373420715332, -0.0013708818005397916, 0.429248571395874, -0.2735697329044342, 0.23619826138019562, -0.4373869299888611, 0.2992454469203949, 0.3642025589942932, 0.21089240908622742, -0.3363164961338043, 0.3862217366695404, -0.2940928339958191, -0.4071648418903351]\n"
     ]
    }
   ],
   "source": [
    "# Example query\n",
    "query = \"How to create chatbots\"\n",
    "query_vector = encoder.encode(query).tolist()\n",
    "\n",
    "# Visualizing the first 30 numbers\n",
    "print(f\"Length of the query vector: {len(query_vector)}\")\n",
    "print(query_vector[:30])"
   ]
  },
  {
   "cell_type": "code",
   "execution_count": 132,
   "id": "6d3e87e2",
   "metadata": {},
   "outputs": [
    {
     "name": "stdout",
     "output_type": "stream",
     "text": [
      "Title: What Are The Best Intelligent Chatbots or AI Chatbots Available Online? - Maruti Techlabs\n",
      "Link: https://chatbotsmagazine.com/which-are-the-best-intelligent-chatbots-or-ai-chatbots-available-online-cc49c0f3569d?source=tag_archive---------8----------------\n",
      "\n",
      "Title: How to Create a Chatbot Without Coding a Single Line - Dominik Felix\n",
      "Link: https://chatbotsmagazine.com/how-to-create-a-chatbot-without-coding-a-single-line-e716840c7245?source=tag_archive---------8----------------\n",
      "\n",
      "Title: How to learn Deep Learning in 6 months – Towards Data Science - Bargava\n",
      "Link: https://towardsdatascience.com/how-to-learn-deep-learning-in-6-months-e45e40ef7d48?source=tag_archive---------5----------------\n",
      "\n",
      "Title: The Complete Beginner’s Guide To Chatbots – Chatbots Magazine - Matt Schlicht\n",
      "Link: https://chatbotsmagazine.com/the-complete-beginner-s-guide-to-chatbots-8280b7b906ca?source=tag_archive---------3----------------\n",
      "\n",
      "Title: How we grew from 0 to 4 million women on our fashion app, with a vertical machine learning approach - Gabriel Aldamiz...\n",
      "Link: https://hackernoon.com/how-we-grew-from-0-to-4-million-women-on-our-fashion-app-with-a-vertical-machine-learning-approach-f8b7fc0a89d7?source=tag_archive---------7----------------\n",
      "\n"
     ]
    }
   ],
   "source": [
    "# Searching for the most similar documents\n",
    "\n",
    "results_original = client.search(\n",
    "            collection_name = \"medium-articles\",\n",
    "            query_vector = query_vector,\n",
    "            query_filter = None\n",
    "          )\n",
    "\n",
    "for result in results_original[:5]:\n",
    "    print(f\"Title: {result.payload['title']} - {result.payload['author']}\\nLink: {result.payload['link']}\\n\")"
   ]
  },
  {
   "cell_type": "markdown",
   "id": "005fcb60",
   "metadata": {},
   "source": [
    "You see that we got a good result. Now, let's try to use Query Expansion to improve the result even more.\n",
    "\n",
    "## Query Expansion\n",
    "Now we're going to use the query expansion technique, which allow us to get more accurate outputs from the retrieval.\n",
    "\n",
    "### Related Queries"
   ]
  },
  {
   "cell_type": "code",
   "execution_count": 91,
   "id": "4a5d584d",
   "metadata": {},
   "outputs": [
    {
     "name": "stdout",
     "output_type": "stream",
     "text": [
      "- Chatbot development best practices\n",
      "- Benefits of using chatbots in customer service\n",
      "- How to design effective conversational flows for chatbots\n",
      "- Chatbot platforms comparison\n",
      "- Examples of successful chatbot implementation in businesses\n"
     ]
    }
   ],
   "source": [
    "# Generating related queries\n",
    "original_query = \"How to create chatbots\"\n",
    "related_queries = generate_related_queries(original_query)\n",
    "\n",
    "for query in related_queries:\n",
    "    print(query)"
   ]
  },
  {
   "cell_type": "code",
   "execution_count": 92,
   "id": "2dcb1dc7",
   "metadata": {},
   "outputs": [],
   "source": [
    "# Query using all the queries (original and generated)\n",
    "queries = [original_query] + related_queries\n",
    "\n",
    "retrieved = list()\n",
    "for query in queries:\n",
    "    query_vector = encoder.encode(query)\n",
    "    results = client.search(collection_name = \"medium-articles\", query_vector = query_vector, query_filter = None, limit = 5)\n",
    "    retrieved.append(results)"
   ]
  },
  {
   "cell_type": "code",
   "execution_count": 93,
   "id": "d0cf4357",
   "metadata": {},
   "outputs": [],
   "source": [
    "# Deduplicate the retrieved documents\n",
    "unique_documents = list()\n",
    "titles = set()\n",
    "for documents in retrieved:\n",
    "    for document in documents:\n",
    "        doc_title = document.payload['title']\n",
    "        if doc_title not in titles:\n",
    "            unique_documents.append(document)\n",
    "            titles.add(doc_title)"
   ]
  },
  {
   "cell_type": "code",
   "execution_count": 94,
   "id": "68e2a5bd",
   "metadata": {
    "scrolled": false
   },
   "outputs": [
    {
     "name": "stdout",
     "output_type": "stream",
     "text": [
      "Title: Reinforcement Learning from scratch – Insight Data - Emmanuel Ameisen\n",
      "Link: https://blog.insightdatascience.com/reinforcement-learning-from-scratch-819b65f074d8?source=---------4----------------\n",
      "\n",
      "Title: Chatbots, could we talk? – AIMA: AI Marketing Magazine – Medium - Gabriel Jiménez\n",
      "Link: https://medium.com/aimarketingassociation/chatbots-could-we-talk-edd6ccbd8f5a?source=---------7----------------\n",
      "\n",
      "Title: Cheat Sheets for AI, Neural Networks, Machine Learning, Deep Learning & Big Data - Stefan Kojouharov\n",
      "Link: https://becominghuman.ai/cheat-sheets-for-ai-neural-networks-machine-learning-deep-learning-big-data-678c51b4b463?source=tag_archive---------6----------------\n",
      "\n",
      "Title: The beginner’s guide to conversational commerce – The Startup – Medium - Justin Lee\n",
      "Link: https://medium.com/swlh/the-beginners-guide-to-conversational-commerce-96f9c7dbaefb?source=---------5----------------\n",
      "\n",
      "Title: Architecting a Machine Learning System for Risk – Airbnb Engineering & Data Science – Medium - AirbnbEng\n",
      "Link: https://medium.com/airbnb-engineering/architecting-a-machine-learning-system-for-risk-941abbba5a60?source=tag_archive---------2----------------\n",
      "\n"
     ]
    }
   ],
   "source": [
    "# Sorting the documents by the score and shoing it's title and link\n",
    "sorted_documents_related_queries = sorted(unique_documents, key = lambda x: x.score, reverse = True)\n",
    "\n",
    "for result in sorted_documents_related_queries[:5]:\n",
    "    print(f\"Title: {result.payload['title']} - {result.payload['author']}\\nLink: {result.payload['link']}\\n\")"
   ]
  },
  {
   "cell_type": "markdown",
   "id": "e1bab34c",
   "metadata": {},
   "source": [
    "We can see that it is not completely focused on Chatbots as the first result. Now, let's use the second approach, generating possible answers instead of multiple queries. Actually, as this problem is a recommendation system, does not make sense to generate answers, but possible TITLES!\n",
    "\n",
    "### Example Titles"
   ]
  },
  {
   "cell_type": "code",
   "execution_count": 117,
   "id": "9c16fca6",
   "metadata": {},
   "outputs": [
    {
     "name": "stdout",
     "output_type": "stream",
     "text": [
      "1. \"A Beginner's Guide to Creating Chatbots\"\n",
      "2. \"Step-by-Step Tutorial: How to Create Your Own Chatbot\"\n",
      "3. \"The Basics of Building Chatbots: A Comprehensive Guide\"\n",
      "4. \"Mastering the Art of Chatbot Development: Tips and Tricks\"\n",
      "5. \"From Zero to Chatbot: A Crash Course in Creating Virtual Assistants\"\n"
     ]
    }
   ],
   "source": [
    "# Generating the titles\n",
    "original_query = \"How to create chatbots\"\n",
    "titles = generate_titles(original_query)\n",
    "\n",
    "for query in titles:\n",
    "    print(query)"
   ]
  },
  {
   "cell_type": "code",
   "execution_count": 118,
   "id": "83c18787",
   "metadata": {},
   "outputs": [],
   "source": [
    "# Query using all the queries (original and generated)\n",
    "queries = [original_query] + titles\n",
    "\n",
    "retrieved = list()\n",
    "for query in queries:\n",
    "    query_vector = encoder.encode(query)\n",
    "    results = client.search(collection_name = \"medium-articles\", query_vector = query_vector, query_filter = None, limit = 5)\n",
    "    retrieved.append(results)"
   ]
  },
  {
   "cell_type": "code",
   "execution_count": 119,
   "id": "2df8fca6",
   "metadata": {},
   "outputs": [],
   "source": [
    "# Deduplicate the retrieved documents\n",
    "unique_documents = list()\n",
    "titles = set()\n",
    "for documents in retrieved:\n",
    "    for document in documents:\n",
    "        doc_title = document.payload['title']\n",
    "        if doc_title not in titles:\n",
    "            unique_documents.append(document)\n",
    "            titles.add(doc_title)"
   ]
  },
  {
   "cell_type": "code",
   "execution_count": 120,
   "id": "7dd0990c",
   "metadata": {},
   "outputs": [
    {
     "name": "stdout",
     "output_type": "stream",
     "text": [
      "Title: How you can train an AI to convert your design mockups into HTML and CSS - Emil Wallner\n",
      "Link: https://medium.freecodecamp.org/how-you-can-train-an-ai-to-convert-your-design-mockups-into-html-and-css-cc7afd82fed4?source=tag_archive---------9----------------\n",
      "\n",
      "Title: Artificial Intelligence Top 10 Articles — June 2018 - Brandon Morelli\n",
      "Link: https://techburst.io/artificial-intelligence-top-10-articles-june-2018-4b3fa7572b46?source=---------8----------------\n",
      "\n",
      "Title: 30 Amazing Python Projects for the Past Year (v.2018) - Mybridge\n",
      "Link: https://medium.mybridge.co/30-amazing-python-projects-for-the-past-year-v-2018-9c310b04cdb3?source=tag_archive---------7----------------\n",
      "\n",
      "Title: 30 Amazing Machine Learning Projects for the Past Year (v.2018) - Mybridge\n",
      "Link: https://medium.mybridge.co/30-amazing-machine-learning-projects-for-the-past-year-v-2018-b853b8621ac7?source=tag_archive---------4----------------\n",
      "\n",
      "Title: Machine Learning Exercises In Python, Part 1 – John Wittenauer – Medium - John Wittenauer\n",
      "Link: https://medium.com/@jdwittenauer/machine-learning-exercises-in-python-part-1-60db0df846a4?source=tag_archive---------8----------------\n",
      "\n"
     ]
    }
   ],
   "source": [
    "# Sorting the documents by the score and shoing it's title and link\n",
    "sorted_documents_example_titles = sorted(unique_documents, key = lambda x: x.score, reverse = True)\n",
    "\n",
    "for result in sorted_documents_example_titles[:5]:\n",
    "    print(f\"Title: {result.payload['title']} - {result.payload['author']}\\nLink: {result.payload['link']}\\n\")"
   ]
  },
  {
   "cell_type": "markdown",
   "id": "348cc9d8",
   "metadata": {},
   "source": [
    "It is worst than the first approach and even worst than the common approach, without query expansion.\n",
    "\n",
    "While I was writing the text above, I had an ideia: \"Instead of creating possibile titles or related queries, why not generating single words that are related?\". In our case, the words could be \"NLP\", \"Deep Learning\", \"Chat\", \"AI\" etc.\n",
    "\n",
    "### Related words\n",
    "Let's try this:"
   ]
  },
  {
   "cell_type": "code",
   "execution_count": 122,
   "id": "94a6bc94",
   "metadata": {},
   "outputs": [
    {
     "name": "stdout",
     "output_type": "stream",
     "text": [
      "1. Artificial Intelligence\n",
      "2. Natural Language Processing\n",
      "3. Machine Learning\n",
      "4. Bot Development\n",
      "5. Conversational User Interface\n",
      "6. Virtual Assistant\n",
      "7. Text Analytics\n",
      "8. Chatbot Platforms\n",
      "9. Programming\n",
      "10. User Experience Design\n"
     ]
    }
   ],
   "source": [
    "# Generating the titles\n",
    "original_query = \"How to create chatbots\"\n",
    "words = generate_related_words(original_query)\n",
    "\n",
    "for query in words:\n",
    "    print(query)"
   ]
  },
  {
   "cell_type": "code",
   "execution_count": 123,
   "id": "7fd5da0e",
   "metadata": {},
   "outputs": [],
   "source": [
    "# Query using all the queries (original and generated)\n",
    "queries = [original_query] + words\n",
    "\n",
    "retrieved = list()\n",
    "for query in queries:\n",
    "    query_vector = encoder.encode(query)\n",
    "    results = client.search(collection_name = \"medium-articles\", query_vector = query_vector, query_filter = None, limit = 5)\n",
    "    retrieved.append(results)"
   ]
  },
  {
   "cell_type": "code",
   "execution_count": 124,
   "id": "f4782977",
   "metadata": {},
   "outputs": [],
   "source": [
    "# Deduplicate the retrieved documents\n",
    "unique_documents = list()\n",
    "titles = set()\n",
    "for documents in retrieved:\n",
    "    for document in documents:\n",
    "        doc_title = document.payload['title']\n",
    "        if doc_title not in titles:\n",
    "            unique_documents.append(document)\n",
    "            titles.add(doc_title)"
   ]
  },
  {
   "cell_type": "code",
   "execution_count": 125,
   "id": "63589dfe",
   "metadata": {},
   "outputs": [
    {
     "name": "stdout",
     "output_type": "stream",
     "text": [
      "Title: 30 Amazing Python Projects for the Past Year (v.2018) - Mybridge\n",
      "Link: https://medium.mybridge.co/30-amazing-python-projects-for-the-past-year-v-2018-9c310b04cdb3?source=tag_archive---------7----------------\n",
      "\n",
      "Title: 30 Amazing Machine Learning Projects for the Past Year (v.2018) - Mybridge\n",
      "Link: https://medium.mybridge.co/30-amazing-machine-learning-projects-for-the-past-year-v-2018-b853b8621ac7?source=tag_archive---------4----------------\n",
      "\n",
      "Title: Loading a TensorFlow graph with the C++ API – Jim Fleming – Medium - Jim Fleming\n",
      "Link: https://medium.com/jim-fleming/loading-a-tensorflow-graph-with-the-c-api-4caaff88463f?source=tag_archive---------1----------------\n",
      "\n",
      "Title: What Are The Best Intelligent Chatbots or AI Chatbots Available Online? - Maruti Techlabs\n",
      "Link: https://chatbotsmagazine.com/which-are-the-best-intelligent-chatbots-or-ai-chatbots-available-online-cc49c0f3569d?source=tag_archive---------8----------------\n",
      "\n",
      "Title: How to Create a Chatbot Without Coding a Single Line - Dominik Felix\n",
      "Link: https://chatbotsmagazine.com/how-to-create-a-chatbot-without-coding-a-single-line-e716840c7245?source=tag_archive---------8----------------\n",
      "\n"
     ]
    }
   ],
   "source": [
    "# Sorting the documents by the score and shoing it's title and link\n",
    "sorted_documents_related_words = sorted(unique_documents, key = lambda x: x.score, reverse = True)\n",
    "\n",
    "for result in sorted_documents_related_words[:5]:\n",
    "    print(f\"Title: {result.payload['title']} - {result.payload['author']}\\nLink: {result.payload['link']}\\n\")"
   ]
  },
  {
   "cell_type": "markdown",
   "id": "c6300121",
   "metadata": {},
   "source": [
    "Only the last result is a good output. Now, let's try using cross-encoder re-ranking.\n",
    "\n",
    "## Cross-encoder re-ranking\n",
    "Now, we're going to use the cross-encoder to capture the similarity and contrasts between the user query and the documents retrieved."
   ]
  },
  {
   "cell_type": "code",
   "execution_count": 130,
   "id": "94023cad",
   "metadata": {},
   "outputs": [
    {
     "data": {
      "application/vnd.jupyter.widget-view+json": {
       "model_id": "82189f3c15b743e9aac0d1de1f3e99d9",
       "version_major": 2,
       "version_minor": 0
      },
      "text/plain": [
       "config.json:   0%|          | 0.00/794 [00:00<?, ?B/s]"
      ]
     },
     "metadata": {},
     "output_type": "display_data"
    },
    {
     "data": {
      "application/vnd.jupyter.widget-view+json": {
       "model_id": "c37eba66d50d4765a1289bcc858e06ac",
       "version_major": 2,
       "version_minor": 0
      },
      "text/plain": [
       "pytorch_model.bin:   0%|          | 0.00/90.9M [00:00<?, ?B/s]"
      ]
     },
     "metadata": {},
     "output_type": "display_data"
    },
    {
     "data": {
      "application/vnd.jupyter.widget-view+json": {
       "model_id": "78460780a3774e0abaa981206eda8b05",
       "version_major": 2,
       "version_minor": 0
      },
      "text/plain": [
       "tokenizer_config.json:   0%|          | 0.00/316 [00:00<?, ?B/s]"
      ]
     },
     "metadata": {},
     "output_type": "display_data"
    },
    {
     "data": {
      "application/vnd.jupyter.widget-view+json": {
       "model_id": "ebff7311b6954d24ae40273222b33320",
       "version_major": 2,
       "version_minor": 0
      },
      "text/plain": [
       "vocab.txt:   0%|          | 0.00/232k [00:00<?, ?B/s]"
      ]
     },
     "metadata": {},
     "output_type": "display_data"
    },
    {
     "data": {
      "application/vnd.jupyter.widget-view+json": {
       "model_id": "80d9f76845d64aaab7a07d6aae7af045",
       "version_major": 2,
       "version_minor": 0
      },
      "text/plain": [
       "special_tokens_map.json:   0%|          | 0.00/112 [00:00<?, ?B/s]"
      ]
     },
     "metadata": {},
     "output_type": "display_data"
    }
   ],
   "source": [
    "# Creating an instance of the cross-encoder\n",
    "cross_encoder = CrossEncoder('cross-encoder/ms-marco-MiniLM-L-6-v2')"
   ]
  },
  {
   "cell_type": "markdown",
   "id": "8edb2cfc",
   "metadata": {},
   "source": [
    "Here I'm using the retrieved documents using the original query, without query expansion."
   ]
  },
  {
   "cell_type": "code",
   "execution_count": 145,
   "id": "6b8c681d",
   "metadata": {},
   "outputs": [
    {
     "name": "stdout",
     "output_type": "stream",
     "text": [
      "Scores:\n",
      "2.3161333\n",
      "6.451616\n",
      "-10.328022\n",
      "2.6004615\n",
      "-9.616787\n",
      "-10.434868\n",
      "-8.065396\n",
      "-8.860885\n",
      "-8.860885\n",
      "-9.980819\n"
     ]
    }
   ],
   "source": [
    "# Getting the scores for each pair of (query, document)\n",
    "pairs = [[query, wrap_words(doc)] for doc in results_original]\n",
    "scores = cross_encoder.predict(pairs)\n",
    "print(\"Scores:\")\n",
    "for score in scores:\n",
    "    print(score)"
   ]
  },
  {
   "cell_type": "code",
   "execution_count": 158,
   "id": "7da1b407",
   "metadata": {},
   "outputs": [
    {
     "name": "stdout",
     "output_type": "stream",
     "text": [
      "Title: How to Create a Chatbot Without Coding a Single Line - Dominik Felix\n",
      "Link: https://chatbotsmagazine.com/how-to-create-a-chatbot-without-coding-a-single-line-e716840c7245?source=tag_archive---------8----------------\n",
      "\n",
      "Title: The Complete Beginner’s Guide To Chatbots – Chatbots Magazine - Matt Schlicht\n",
      "Link: https://chatbotsmagazine.com/the-complete-beginner-s-guide-to-chatbots-8280b7b906ca?source=tag_archive---------3----------------\n",
      "\n",
      "Title: What Are The Best Intelligent Chatbots or AI Chatbots Available Online? - Maruti Techlabs\n",
      "Link: https://chatbotsmagazine.com/which-are-the-best-intelligent-chatbots-or-ai-chatbots-available-online-cc49c0f3569d?source=tag_archive---------8----------------\n",
      "\n",
      "Title: Turn your Raspberry Pi into homemade Google Home – Becoming Human: Artificial Intelligence Magazine - Keval Patel\n",
      "Link: https://becominghuman.ai/turn-your-raspberry-pi-into-homemade-google-home-9e29ad220075?source=tag_archive---------6----------------\n",
      "\n",
      "Title: An intro to Machine Learning for designers – UX Collective - Sam Drozdov\n",
      "Link: https://uxdesign.cc/an-intro-to-machine-learning-for-designers-5c74ba100257?source=---------6----------------\n",
      "\n"
     ]
    }
   ],
   "source": [
    "# Getting the results\n",
    "top_5_indexes = sorted(range(len(scores)), key=lambda i: scores[i], reverse=True)[:5]\n",
    "\n",
    "for index in top_5_indexes:\n",
    "    result = results_original[index]\n",
    "    print(f\"Title: {result.payload['title']} - {result.payload['author']}\\nLink: {result.payload['link']}\\n\")"
   ]
  },
  {
   "cell_type": "code",
   "execution_count": 159,
   "id": "3431a61a",
   "metadata": {},
   "outputs": [],
   "source": [
    "# Getting the documents\n",
    "results_reranking = list()\n",
    "for k in top_5_indexes:\n",
    "    results_reranking.append(results_original[k])"
   ]
  },
  {
   "cell_type": "markdown",
   "id": "32e4df69",
   "metadata": {},
   "source": [
    "## Comparison of these methods\n",
    "Now, let's create a Dataframe with all the results that we've got using the common approach and with query expansion."
   ]
  },
  {
   "cell_type": "code",
   "execution_count": 161,
   "id": "77290891",
   "metadata": {},
   "outputs": [],
   "source": [
    "titles_result, links_result, authors_result, scores_result, techniques = list(), list(), list(), list(), list()\n",
    "for common, ex_queries, ex_titles, ex_words, ex_reranking in zip(results_original[:5], sorted_documents_related_queries[:5], sorted_documents_example_titles[:5], sorted_documents_related_words[:5], results_reranking):\n",
    "    title1, link1, author1, score1 = common.payload['title'], common.payload['link'], common.payload['author'], common.score\n",
    "    title2, link2, author2, score2 = ex_queries.payload['title'], ex_queries.payload['link'], ex_queries.payload['author'], ex_queries.score\n",
    "    title3, link3, author3, score3 = ex_titles.payload['title'], ex_titles.payload['link'], ex_titles.payload['author'], ex_titles.score\n",
    "    title4, link4, author4, score4 = ex_words.payload['title'], ex_words.payload['link'], ex_words.payload['author'], ex_words.score\n",
    "    title5, link5, author5, score5 = ex_reranking.payload['title'], ex_reranking.payload['link'], ex_reranking.payload['author'], ex_reranking.score\n",
    "    \n",
    "    titles_result += [title1, title2, title3, title4, title5]\n",
    "    links_result += [link1, link2, link3, link4, link4]\n",
    "    authors_result += [author1, author2, author3, author4, author4]\n",
    "    scores_result += [score1, score2, score3, score4, score4]\n",
    "    techniques += ['Original', 'Related Queries', 'Example Titles', 'Related Words', 'Re-Ranking']"
   ]
  },
  {
   "cell_type": "code",
   "execution_count": 162,
   "id": "47cd10e0",
   "metadata": {},
   "outputs": [
    {
     "data": {
      "text/html": [
       "<div>\n",
       "<style scoped>\n",
       "    .dataframe tbody tr th:only-of-type {\n",
       "        vertical-align: middle;\n",
       "    }\n",
       "\n",
       "    .dataframe tbody tr th {\n",
       "        vertical-align: top;\n",
       "    }\n",
       "\n",
       "    .dataframe thead th {\n",
       "        text-align: right;\n",
       "    }\n",
       "</style>\n",
       "<table border=\"1\" class=\"dataframe\">\n",
       "  <thead>\n",
       "    <tr style=\"text-align: right;\">\n",
       "      <th></th>\n",
       "      <th>title</th>\n",
       "      <th>author</th>\n",
       "      <th>link</th>\n",
       "      <th>score</th>\n",
       "      <th>technique</th>\n",
       "    </tr>\n",
       "  </thead>\n",
       "  <tbody>\n",
       "    <tr>\n",
       "      <th>0</th>\n",
       "      <td>What Are The Best Intelligent Chatbots or AI C...</td>\n",
       "      <td>Maruti Techlabs</td>\n",
       "      <td>https://chatbotsmagazine.com/which-are-the-bes...</td>\n",
       "      <td>0.622205</td>\n",
       "      <td>Original</td>\n",
       "    </tr>\n",
       "    <tr>\n",
       "      <th>1</th>\n",
       "      <td>Reinforcement Learning from scratch – Insight ...</td>\n",
       "      <td>Emmanuel Ameisen</td>\n",
       "      <td>https://blog.insightdatascience.com/reinforcem...</td>\n",
       "      <td>0.716298</td>\n",
       "      <td>Related Queries</td>\n",
       "    </tr>\n",
       "    <tr>\n",
       "      <th>2</th>\n",
       "      <td>How you can train an AI to convert your design...</td>\n",
       "      <td>Emil Wallner</td>\n",
       "      <td>https://medium.freecodecamp.org/how-you-can-tr...</td>\n",
       "      <td>0.779914</td>\n",
       "      <td>Example Titles</td>\n",
       "    </tr>\n",
       "    <tr>\n",
       "      <th>3</th>\n",
       "      <td>30 Amazing Python Projects for the Past Year (...</td>\n",
       "      <td>Mybridge</td>\n",
       "      <td>https://medium.mybridge.co/30-amazing-python-p...</td>\n",
       "      <td>0.650976</td>\n",
       "      <td>Related Words</td>\n",
       "    </tr>\n",
       "    <tr>\n",
       "      <th>4</th>\n",
       "      <td>How to Create a Chatbot Without Coding a Singl...</td>\n",
       "      <td>Mybridge</td>\n",
       "      <td>https://medium.mybridge.co/30-amazing-python-p...</td>\n",
       "      <td>0.650976</td>\n",
       "      <td>Re-Ranking</td>\n",
       "    </tr>\n",
       "  </tbody>\n",
       "</table>\n",
       "</div>"
      ],
      "text/plain": [
       "                                               title            author  \\\n",
       "0  What Are The Best Intelligent Chatbots or AI C...   Maruti Techlabs   \n",
       "1  Reinforcement Learning from scratch – Insight ...  Emmanuel Ameisen   \n",
       "2  How you can train an AI to convert your design...      Emil Wallner   \n",
       "3  30 Amazing Python Projects for the Past Year (...          Mybridge   \n",
       "4  How to Create a Chatbot Without Coding a Singl...          Mybridge   \n",
       "\n",
       "                                                link     score  \\\n",
       "0  https://chatbotsmagazine.com/which-are-the-bes...  0.622205   \n",
       "1  https://blog.insightdatascience.com/reinforcem...  0.716298   \n",
       "2  https://medium.freecodecamp.org/how-you-can-tr...  0.779914   \n",
       "3  https://medium.mybridge.co/30-amazing-python-p...  0.650976   \n",
       "4  https://medium.mybridge.co/30-amazing-python-p...  0.650976   \n",
       "\n",
       "         technique  \n",
       "0         Original  \n",
       "1  Related Queries  \n",
       "2   Example Titles  \n",
       "3    Related Words  \n",
       "4       Re-Ranking  "
      ]
     },
     "execution_count": 162,
     "metadata": {},
     "output_type": "execute_result"
    }
   ],
   "source": [
    "# Creating the dataframe\n",
    "comparison = pd.DataFrame({\n",
    "    'title': titles_result,\n",
    "    'author': authors_result,\n",
    "    'link': links_result,\n",
    "    'score': scores_result,\n",
    "    'technique': techniques\n",
    "})\n",
    "\n",
    "comparison.head()"
   ]
  },
  {
   "cell_type": "code",
   "execution_count": 163,
   "id": "548a8137",
   "metadata": {},
   "outputs": [
    {
     "data": {
      "text/html": [
       "<div>\n",
       "<style scoped>\n",
       "    .dataframe tbody tr th:only-of-type {\n",
       "        vertical-align: middle;\n",
       "    }\n",
       "\n",
       "    .dataframe tbody tr th {\n",
       "        vertical-align: top;\n",
       "    }\n",
       "\n",
       "    .dataframe thead th {\n",
       "        text-align: right;\n",
       "    }\n",
       "</style>\n",
       "<table border=\"1\" class=\"dataframe\">\n",
       "  <thead>\n",
       "    <tr style=\"text-align: right;\">\n",
       "      <th></th>\n",
       "      <th>title</th>\n",
       "      <th>author</th>\n",
       "      <th>link</th>\n",
       "      <th>score</th>\n",
       "      <th>technique</th>\n",
       "    </tr>\n",
       "  </thead>\n",
       "  <tbody>\n",
       "    <tr>\n",
       "      <th>2</th>\n",
       "      <td>How you can train an AI to convert your design...</td>\n",
       "      <td>Emil Wallner</td>\n",
       "      <td>https://medium.freecodecamp.org/how-you-can-tr...</td>\n",
       "      <td>0.779914</td>\n",
       "      <td>Example Titles</td>\n",
       "    </tr>\n",
       "    <tr>\n",
       "      <th>7</th>\n",
       "      <td>Artificial Intelligence Top 10 Articles — June...</td>\n",
       "      <td>Brandon Morelli</td>\n",
       "      <td>https://techburst.io/artificial-intelligence-t...</td>\n",
       "      <td>0.774829</td>\n",
       "      <td>Example Titles</td>\n",
       "    </tr>\n",
       "    <tr>\n",
       "      <th>12</th>\n",
       "      <td>30 Amazing Python Projects for the Past Year (...</td>\n",
       "      <td>Mybridge</td>\n",
       "      <td>https://medium.mybridge.co/30-amazing-python-p...</td>\n",
       "      <td>0.769492</td>\n",
       "      <td>Example Titles</td>\n",
       "    </tr>\n",
       "    <tr>\n",
       "      <th>17</th>\n",
       "      <td>30 Amazing Machine Learning Projects for the P...</td>\n",
       "      <td>Mybridge</td>\n",
       "      <td>https://medium.mybridge.co/30-amazing-machine-...</td>\n",
       "      <td>0.763240</td>\n",
       "      <td>Example Titles</td>\n",
       "    </tr>\n",
       "    <tr>\n",
       "      <th>22</th>\n",
       "      <td>Machine Learning Exercises In Python, Part 1 –...</td>\n",
       "      <td>John Wittenauer</td>\n",
       "      <td>https://medium.com/@jdwittenauer/machine-learn...</td>\n",
       "      <td>0.730944</td>\n",
       "      <td>Example Titles</td>\n",
       "    </tr>\n",
       "    <tr>\n",
       "      <th>1</th>\n",
       "      <td>Reinforcement Learning from scratch – Insight ...</td>\n",
       "      <td>Emmanuel Ameisen</td>\n",
       "      <td>https://blog.insightdatascience.com/reinforcem...</td>\n",
       "      <td>0.716298</td>\n",
       "      <td>Related Queries</td>\n",
       "    </tr>\n",
       "    <tr>\n",
       "      <th>6</th>\n",
       "      <td>Chatbots, could we talk? – AIMA: AI Marketing ...</td>\n",
       "      <td>Gabriel Jiménez</td>\n",
       "      <td>https://medium.com/aimarketingassociation/chat...</td>\n",
       "      <td>0.705268</td>\n",
       "      <td>Related Queries</td>\n",
       "    </tr>\n",
       "    <tr>\n",
       "      <th>11</th>\n",
       "      <td>Cheat Sheets for AI, Neural Networks, Machine ...</td>\n",
       "      <td>Stefan Kojouharov</td>\n",
       "      <td>https://becominghuman.ai/cheat-sheets-for-ai-n...</td>\n",
       "      <td>0.704150</td>\n",
       "      <td>Related Queries</td>\n",
       "    </tr>\n",
       "    <tr>\n",
       "      <th>16</th>\n",
       "      <td>The beginner’s guide to conversational commerc...</td>\n",
       "      <td>Justin Lee</td>\n",
       "      <td>https://medium.com/swlh/the-beginners-guide-to...</td>\n",
       "      <td>0.700920</td>\n",
       "      <td>Related Queries</td>\n",
       "    </tr>\n",
       "    <tr>\n",
       "      <th>21</th>\n",
       "      <td>Architecting a Machine Learning System for Ris...</td>\n",
       "      <td>AirbnbEng</td>\n",
       "      <td>https://medium.com/airbnb-engineering/architec...</td>\n",
       "      <td>0.697742</td>\n",
       "      <td>Related Queries</td>\n",
       "    </tr>\n",
       "  </tbody>\n",
       "</table>\n",
       "</div>"
      ],
      "text/plain": [
       "                                                title             author  \\\n",
       "2   How you can train an AI to convert your design...       Emil Wallner   \n",
       "7   Artificial Intelligence Top 10 Articles — June...    Brandon Morelli   \n",
       "12  30 Amazing Python Projects for the Past Year (...           Mybridge   \n",
       "17  30 Amazing Machine Learning Projects for the P...           Mybridge   \n",
       "22  Machine Learning Exercises In Python, Part 1 –...    John Wittenauer   \n",
       "1   Reinforcement Learning from scratch – Insight ...   Emmanuel Ameisen   \n",
       "6   Chatbots, could we talk? – AIMA: AI Marketing ...   Gabriel Jiménez   \n",
       "11  Cheat Sheets for AI, Neural Networks, Machine ...  Stefan Kojouharov   \n",
       "16  The beginner’s guide to conversational commerc...         Justin Lee   \n",
       "21  Architecting a Machine Learning System for Ris...          AirbnbEng   \n",
       "\n",
       "                                                 link     score  \\\n",
       "2   https://medium.freecodecamp.org/how-you-can-tr...  0.779914   \n",
       "7   https://techburst.io/artificial-intelligence-t...  0.774829   \n",
       "12  https://medium.mybridge.co/30-amazing-python-p...  0.769492   \n",
       "17  https://medium.mybridge.co/30-amazing-machine-...  0.763240   \n",
       "22  https://medium.com/@jdwittenauer/machine-learn...  0.730944   \n",
       "1   https://blog.insightdatascience.com/reinforcem...  0.716298   \n",
       "6   https://medium.com/aimarketingassociation/chat...  0.705268   \n",
       "11  https://becominghuman.ai/cheat-sheets-for-ai-n...  0.704150   \n",
       "16  https://medium.com/swlh/the-beginners-guide-to...  0.700920   \n",
       "21  https://medium.com/airbnb-engineering/architec...  0.697742   \n",
       "\n",
       "          technique  \n",
       "2    Example Titles  \n",
       "7    Example Titles  \n",
       "12   Example Titles  \n",
       "17   Example Titles  \n",
       "22   Example Titles  \n",
       "1   Related Queries  \n",
       "6   Related Queries  \n",
       "11  Related Queries  \n",
       "16  Related Queries  \n",
       "21  Related Queries  "
      ]
     },
     "execution_count": 163,
     "metadata": {},
     "output_type": "execute_result"
    }
   ],
   "source": [
    "# Sorting by the score\n",
    "comparison.sort_values(by = 'score', ascending = False).head(10)"
   ]
  },
  {
   "cell_type": "markdown",
   "id": "0cffba86",
   "metadata": {},
   "source": [
    "## Comparing the original method with and without re-ranking using cross-encoder"
   ]
  },
  {
   "cell_type": "code",
   "execution_count": 175,
   "id": "e4e3762c",
   "metadata": {},
   "outputs": [
    {
     "data": {
      "text/plain": [
       "{'How to Create a Chatbot Without Coding a Single Line',\n",
       " 'The Complete Beginner’s Guide To Chatbots – Chatbots Magazine',\n",
       " 'What Are The Best Intelligent Chatbots or AI Chatbots Available Online?'}"
      ]
     },
     "execution_count": 175,
     "metadata": {},
     "output_type": "execute_result"
    }
   ],
   "source": [
    "# Which articles are in both?\n",
    "intersection = set(comparison[comparison['technique'] == 'Original'].title.tolist()).intersection(set(comparison[comparison['technique'] == 'Re-Ranking'].title.tolist()))\n",
    "intersection"
   ]
  },
  {
   "cell_type": "code",
   "execution_count": 178,
   "id": "d3963336",
   "metadata": {},
   "outputs": [
    {
     "name": "stdout",
     "output_type": "stream",
     "text": [
      "Recommended only by the Original:\n",
      "\t How to learn Deep Learning in 6 months – Towards Data Science\n",
      "\t How we grew from 0 to 4 million women on our fashion app, with a vertical machine learning approach\n",
      "\n",
      "Recommended only by Re-Ranking:\n",
      "\t An intro to Machine Learning for designers – UX Collective\n",
      "\t Turn your Raspberry Pi into homemade Google Home – Becoming Human: Artificial Intelligence Magazine\n"
     ]
    }
   ],
   "source": [
    "# Which are not?\n",
    "print(\"Recommended only by the Original:\")\n",
    "for title in set(comparison[comparison['technique'] == 'Original'].title.tolist()).difference(intersection):\n",
    "    print('\\t', title)\n",
    "\n",
    "print(\"\\nRecommended only by Re-Ranking:\")\n",
    "for title in set(comparison[comparison['technique'] == 'Re-Ranking'].title.tolist()).difference(intersection):\n",
    "    print('\\t', title)"
   ]
  },
  {
   "cell_type": "markdown",
   "id": "a7113b89",
   "metadata": {},
   "source": [
    "Note that the additional recommendations of the original method make more sense than the re-ranking additional ones. At least for me.\n",
    "\n",
    "## End of the project\n",
    "We can conclude that besides the best score was achieved by example titles, in pratice the best results came from the original method, without using query expansion. In other situations this may be helpful! You should always test."
   ]
  }
 ],
 "metadata": {
  "kernelspec": {
   "display_name": "Python 3 (ipykernel)",
   "language": "python",
   "name": "python3"
  },
  "language_info": {
   "codemirror_mode": {
    "name": "ipython",
    "version": 3
   },
   "file_extension": ".py",
   "mimetype": "text/x-python",
   "name": "python",
   "nbconvert_exporter": "python",
   "pygments_lexer": "ipython3",
   "version": "3.11.5"
  }
 },
 "nbformat": 4,
 "nbformat_minor": 5
}
